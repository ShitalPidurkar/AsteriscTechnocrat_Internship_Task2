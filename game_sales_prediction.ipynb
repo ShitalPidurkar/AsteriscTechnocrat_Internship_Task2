{
 "cells": [
  {
   "cell_type": "markdown",
   "id": "37bab0b0",
   "metadata": {},
   "source": [
    "# VIDEO GAME SALES PREDICTION"
   ]
  },
  {
   "cell_type": "markdown",
   "id": "44fd837b",
   "metadata": {},
   "source": [
    "### Name : Shital Pidurkar"
   ]
  },
  {
   "cell_type": "code",
   "execution_count": 1,
   "id": "b45da8c3",
   "metadata": {},
   "outputs": [],
   "source": [
    "import pandas as pd\n",
    "from sklearn.model_selection import train_test_split, GridSearchCV\n",
    "from sklearn.preprocessing import StandardScaler, OneHotEncoder\n",
    "from sklearn.compose import ColumnTransformer\n",
    "from sklearn.pipeline import Pipeline\n",
    "from sklearn.linear_model import LinearRegression\n",
    "from sklearn.ensemble import RandomForestRegressor, GradientBoostingRegressor\n",
    "from sklearn.metrics import mean_squared_error, r2_score"
   ]
  },
  {
   "cell_type": "markdown",
   "id": "79798a92",
   "metadata": {},
   "source": [
    "### Load the dataset"
   ]
  },
  {
   "cell_type": "code",
   "execution_count": 2,
   "id": "f9b2e0ed",
   "metadata": {},
   "outputs": [
    {
     "data": {
      "text/html": [
       "<div>\n",
       "<style scoped>\n",
       "    .dataframe tbody tr th:only-of-type {\n",
       "        vertical-align: middle;\n",
       "    }\n",
       "\n",
       "    .dataframe tbody tr th {\n",
       "        vertical-align: top;\n",
       "    }\n",
       "\n",
       "    .dataframe thead th {\n",
       "        text-align: right;\n",
       "    }\n",
       "</style>\n",
       "<table border=\"1\" class=\"dataframe\">\n",
       "  <thead>\n",
       "    <tr style=\"text-align: right;\">\n",
       "      <th></th>\n",
       "      <th>Name</th>\n",
       "      <th>Platform</th>\n",
       "      <th>Year_of_Release</th>\n",
       "      <th>Genre</th>\n",
       "      <th>Publisher</th>\n",
       "      <th>NA_Sales</th>\n",
       "      <th>EU_Sales</th>\n",
       "      <th>JP_Sales</th>\n",
       "      <th>Other_Sales</th>\n",
       "      <th>Global_Sales</th>\n",
       "      <th>Critic_Score</th>\n",
       "      <th>Critic_Count</th>\n",
       "      <th>User_Score</th>\n",
       "      <th>User_Count</th>\n",
       "      <th>Developer</th>\n",
       "      <th>Rating</th>\n",
       "    </tr>\n",
       "  </thead>\n",
       "  <tbody>\n",
       "    <tr>\n",
       "      <th>0</th>\n",
       "      <td>Wii Sports</td>\n",
       "      <td>Wii</td>\n",
       "      <td>2006.0</td>\n",
       "      <td>Sports</td>\n",
       "      <td>Nintendo</td>\n",
       "      <td>41.36</td>\n",
       "      <td>28.96</td>\n",
       "      <td>3.77</td>\n",
       "      <td>8.45</td>\n",
       "      <td>82.53</td>\n",
       "      <td>76.0</td>\n",
       "      <td>51.0</td>\n",
       "      <td>8</td>\n",
       "      <td>322.0</td>\n",
       "      <td>Nintendo</td>\n",
       "      <td>E</td>\n",
       "    </tr>\n",
       "    <tr>\n",
       "      <th>1</th>\n",
       "      <td>Super Mario Bros.</td>\n",
       "      <td>NES</td>\n",
       "      <td>1985.0</td>\n",
       "      <td>Platform</td>\n",
       "      <td>Nintendo</td>\n",
       "      <td>29.08</td>\n",
       "      <td>3.58</td>\n",
       "      <td>6.81</td>\n",
       "      <td>0.77</td>\n",
       "      <td>40.24</td>\n",
       "      <td>NaN</td>\n",
       "      <td>NaN</td>\n",
       "      <td>NaN</td>\n",
       "      <td>NaN</td>\n",
       "      <td>NaN</td>\n",
       "      <td>NaN</td>\n",
       "    </tr>\n",
       "    <tr>\n",
       "      <th>2</th>\n",
       "      <td>Mario Kart Wii</td>\n",
       "      <td>Wii</td>\n",
       "      <td>2008.0</td>\n",
       "      <td>Racing</td>\n",
       "      <td>Nintendo</td>\n",
       "      <td>15.68</td>\n",
       "      <td>12.76</td>\n",
       "      <td>3.79</td>\n",
       "      <td>3.29</td>\n",
       "      <td>35.52</td>\n",
       "      <td>82.0</td>\n",
       "      <td>73.0</td>\n",
       "      <td>8.3</td>\n",
       "      <td>709.0</td>\n",
       "      <td>Nintendo</td>\n",
       "      <td>E</td>\n",
       "    </tr>\n",
       "    <tr>\n",
       "      <th>3</th>\n",
       "      <td>Wii Sports Resort</td>\n",
       "      <td>Wii</td>\n",
       "      <td>2009.0</td>\n",
       "      <td>Sports</td>\n",
       "      <td>Nintendo</td>\n",
       "      <td>15.61</td>\n",
       "      <td>10.93</td>\n",
       "      <td>3.28</td>\n",
       "      <td>2.95</td>\n",
       "      <td>32.77</td>\n",
       "      <td>80.0</td>\n",
       "      <td>73.0</td>\n",
       "      <td>8</td>\n",
       "      <td>192.0</td>\n",
       "      <td>Nintendo</td>\n",
       "      <td>E</td>\n",
       "    </tr>\n",
       "    <tr>\n",
       "      <th>4</th>\n",
       "      <td>Pokemon Red/Pokemon Blue</td>\n",
       "      <td>GB</td>\n",
       "      <td>1996.0</td>\n",
       "      <td>Role-Playing</td>\n",
       "      <td>Nintendo</td>\n",
       "      <td>11.27</td>\n",
       "      <td>8.89</td>\n",
       "      <td>10.22</td>\n",
       "      <td>1.00</td>\n",
       "      <td>31.37</td>\n",
       "      <td>NaN</td>\n",
       "      <td>NaN</td>\n",
       "      <td>NaN</td>\n",
       "      <td>NaN</td>\n",
       "      <td>NaN</td>\n",
       "      <td>NaN</td>\n",
       "    </tr>\n",
       "    <tr>\n",
       "      <th>...</th>\n",
       "      <td>...</td>\n",
       "      <td>...</td>\n",
       "      <td>...</td>\n",
       "      <td>...</td>\n",
       "      <td>...</td>\n",
       "      <td>...</td>\n",
       "      <td>...</td>\n",
       "      <td>...</td>\n",
       "      <td>...</td>\n",
       "      <td>...</td>\n",
       "      <td>...</td>\n",
       "      <td>...</td>\n",
       "      <td>...</td>\n",
       "      <td>...</td>\n",
       "      <td>...</td>\n",
       "      <td>...</td>\n",
       "    </tr>\n",
       "    <tr>\n",
       "      <th>16714</th>\n",
       "      <td>Samurai Warriors: Sanada Maru</td>\n",
       "      <td>PS3</td>\n",
       "      <td>2016.0</td>\n",
       "      <td>Action</td>\n",
       "      <td>Tecmo Koei</td>\n",
       "      <td>0.00</td>\n",
       "      <td>0.00</td>\n",
       "      <td>0.01</td>\n",
       "      <td>0.00</td>\n",
       "      <td>0.01</td>\n",
       "      <td>NaN</td>\n",
       "      <td>NaN</td>\n",
       "      <td>NaN</td>\n",
       "      <td>NaN</td>\n",
       "      <td>NaN</td>\n",
       "      <td>NaN</td>\n",
       "    </tr>\n",
       "    <tr>\n",
       "      <th>16715</th>\n",
       "      <td>LMA Manager 2007</td>\n",
       "      <td>X360</td>\n",
       "      <td>2006.0</td>\n",
       "      <td>Sports</td>\n",
       "      <td>Codemasters</td>\n",
       "      <td>0.00</td>\n",
       "      <td>0.01</td>\n",
       "      <td>0.00</td>\n",
       "      <td>0.00</td>\n",
       "      <td>0.01</td>\n",
       "      <td>NaN</td>\n",
       "      <td>NaN</td>\n",
       "      <td>NaN</td>\n",
       "      <td>NaN</td>\n",
       "      <td>NaN</td>\n",
       "      <td>NaN</td>\n",
       "    </tr>\n",
       "    <tr>\n",
       "      <th>16716</th>\n",
       "      <td>Haitaka no Psychedelica</td>\n",
       "      <td>PSV</td>\n",
       "      <td>2016.0</td>\n",
       "      <td>Adventure</td>\n",
       "      <td>Idea Factory</td>\n",
       "      <td>0.00</td>\n",
       "      <td>0.00</td>\n",
       "      <td>0.01</td>\n",
       "      <td>0.00</td>\n",
       "      <td>0.01</td>\n",
       "      <td>NaN</td>\n",
       "      <td>NaN</td>\n",
       "      <td>NaN</td>\n",
       "      <td>NaN</td>\n",
       "      <td>NaN</td>\n",
       "      <td>NaN</td>\n",
       "    </tr>\n",
       "    <tr>\n",
       "      <th>16717</th>\n",
       "      <td>Spirits &amp; Spells</td>\n",
       "      <td>GBA</td>\n",
       "      <td>2003.0</td>\n",
       "      <td>Platform</td>\n",
       "      <td>Wanadoo</td>\n",
       "      <td>0.01</td>\n",
       "      <td>0.00</td>\n",
       "      <td>0.00</td>\n",
       "      <td>0.00</td>\n",
       "      <td>0.01</td>\n",
       "      <td>NaN</td>\n",
       "      <td>NaN</td>\n",
       "      <td>NaN</td>\n",
       "      <td>NaN</td>\n",
       "      <td>NaN</td>\n",
       "      <td>NaN</td>\n",
       "    </tr>\n",
       "    <tr>\n",
       "      <th>16718</th>\n",
       "      <td>Winning Post 8 2016</td>\n",
       "      <td>PSV</td>\n",
       "      <td>2016.0</td>\n",
       "      <td>Simulation</td>\n",
       "      <td>Tecmo Koei</td>\n",
       "      <td>0.00</td>\n",
       "      <td>0.00</td>\n",
       "      <td>0.01</td>\n",
       "      <td>0.00</td>\n",
       "      <td>0.01</td>\n",
       "      <td>NaN</td>\n",
       "      <td>NaN</td>\n",
       "      <td>NaN</td>\n",
       "      <td>NaN</td>\n",
       "      <td>NaN</td>\n",
       "      <td>NaN</td>\n",
       "    </tr>\n",
       "  </tbody>\n",
       "</table>\n",
       "<p>16719 rows × 16 columns</p>\n",
       "</div>"
      ],
      "text/plain": [
       "                                Name Platform  Year_of_Release         Genre  \\\n",
       "0                         Wii Sports      Wii           2006.0        Sports   \n",
       "1                  Super Mario Bros.      NES           1985.0      Platform   \n",
       "2                     Mario Kart Wii      Wii           2008.0        Racing   \n",
       "3                  Wii Sports Resort      Wii           2009.0        Sports   \n",
       "4           Pokemon Red/Pokemon Blue       GB           1996.0  Role-Playing   \n",
       "...                              ...      ...              ...           ...   \n",
       "16714  Samurai Warriors: Sanada Maru      PS3           2016.0        Action   \n",
       "16715               LMA Manager 2007     X360           2006.0        Sports   \n",
       "16716        Haitaka no Psychedelica      PSV           2016.0     Adventure   \n",
       "16717               Spirits & Spells      GBA           2003.0      Platform   \n",
       "16718            Winning Post 8 2016      PSV           2016.0    Simulation   \n",
       "\n",
       "          Publisher  NA_Sales  EU_Sales  JP_Sales  Other_Sales  Global_Sales  \\\n",
       "0          Nintendo     41.36     28.96      3.77         8.45         82.53   \n",
       "1          Nintendo     29.08      3.58      6.81         0.77         40.24   \n",
       "2          Nintendo     15.68     12.76      3.79         3.29         35.52   \n",
       "3          Nintendo     15.61     10.93      3.28         2.95         32.77   \n",
       "4          Nintendo     11.27      8.89     10.22         1.00         31.37   \n",
       "...             ...       ...       ...       ...          ...           ...   \n",
       "16714    Tecmo Koei      0.00      0.00      0.01         0.00          0.01   \n",
       "16715   Codemasters      0.00      0.01      0.00         0.00          0.01   \n",
       "16716  Idea Factory      0.00      0.00      0.01         0.00          0.01   \n",
       "16717       Wanadoo      0.01      0.00      0.00         0.00          0.01   \n",
       "16718    Tecmo Koei      0.00      0.00      0.01         0.00          0.01   \n",
       "\n",
       "       Critic_Score  Critic_Count User_Score  User_Count Developer Rating  \n",
       "0              76.0          51.0          8       322.0  Nintendo      E  \n",
       "1               NaN           NaN        NaN         NaN       NaN    NaN  \n",
       "2              82.0          73.0        8.3       709.0  Nintendo      E  \n",
       "3              80.0          73.0          8       192.0  Nintendo      E  \n",
       "4               NaN           NaN        NaN         NaN       NaN    NaN  \n",
       "...             ...           ...        ...         ...       ...    ...  \n",
       "16714           NaN           NaN        NaN         NaN       NaN    NaN  \n",
       "16715           NaN           NaN        NaN         NaN       NaN    NaN  \n",
       "16716           NaN           NaN        NaN         NaN       NaN    NaN  \n",
       "16717           NaN           NaN        NaN         NaN       NaN    NaN  \n",
       "16718           NaN           NaN        NaN         NaN       NaN    NaN  \n",
       "\n",
       "[16719 rows x 16 columns]"
      ]
     },
     "execution_count": 2,
     "metadata": {},
     "output_type": "execute_result"
    }
   ],
   "source": [
    "dataset_path = 'Video_Games_Sales.csv'\n",
    "df = pd.read_csv(dataset_path)\n",
    "df"
   ]
  },
  {
   "cell_type": "markdown",
   "id": "43a09b0d",
   "metadata": {},
   "source": [
    "### Data Preprocessing (Handling categorical features with OneHotEncoder)"
   ]
  },
  {
   "cell_type": "code",
   "execution_count": 3,
   "id": "495a9118",
   "metadata": {},
   "outputs": [],
   "source": [
    "# Drop rows with missing sales data\n",
    "df = df.dropna(subset=['NA_Sales', 'EU_Sales', 'JP_Sales', 'Other_Sales', 'Global_Sales'])\n"
   ]
  },
  {
   "cell_type": "code",
   "execution_count": 4,
   "id": "b2ee7166",
   "metadata": {},
   "outputs": [],
   "source": [
    "# Drop columns with a high number of missing values or irrelevant for sales prediction\n",
    "df = df.drop(columns=['Name', 'Year_of_Release', 'Critic_Score', 'Critic_Count', 'User_Score', 'User_Count', 'Rating'])"
   ]
  },
  {
   "cell_type": "code",
   "execution_count": 5,
   "id": "c14ea00c",
   "metadata": {},
   "outputs": [],
   "source": [
    "# Separate numerical and categorical features\n",
    "categorical_features = ['Platform', 'Genre', 'Publisher', 'Developer']\n",
    "numerical_features = [col for col in df.columns if col not in categorical_features and col != 'Global_Sales']"
   ]
  },
  {
   "cell_type": "code",
   "execution_count": 6,
   "id": "b56baec0",
   "metadata": {},
   "outputs": [],
   "source": [
    "# Create pipelines for numerical and categorical features\n",
    "numerical_pipeline = Pipeline([\n",
    "    ('scaler', StandardScaler())\n",
    "])\n",
    "\n",
    "categorical_pipeline = Pipeline([\n",
    "    ('encoder', OneHotEncoder(handle_unknown='ignore'))\n",
    "])\n",
    "\n",
    "preprocessor = ColumnTransformer([\n",
    "    ('num', numerical_pipeline, numerical_features),\n",
    "    ('cat', categorical_pipeline, categorical_features)\n",
    "])\n",
    "\n",
    "X = df.drop('Global_Sales', axis=1)  # Features\n",
    "y = df['Global_Sales']  # Target variable\n",
    "\n",
    "X_preprocessed = preprocessor.fit_transform(X)\n"
   ]
  },
  {
   "cell_type": "markdown",
   "id": "08b87073",
   "metadata": {},
   "source": [
    "### Data Splitting"
   ]
  },
  {
   "cell_type": "code",
   "execution_count": 7,
   "id": "258c1115",
   "metadata": {},
   "outputs": [],
   "source": [
    "X_train, X_test, y_train, y_test = train_test_split(X_preprocessed, y, test_size=0.2, random_state=42)"
   ]
  },
  {
   "cell_type": "markdown",
   "id": "31021b53",
   "metadata": {},
   "source": [
    "###  Model Selection (Choosing Random Forest and Gradient Boosting Regressors)"
   ]
  },
  {
   "cell_type": "code",
   "execution_count": 8,
   "id": "081c908a",
   "metadata": {},
   "outputs": [],
   "source": [
    "rf_model = RandomForestRegressor(random_state=42)\n",
    "gb_model = GradientBoostingRegressor(random_state=42)"
   ]
  },
  {
   "cell_type": "markdown",
   "id": "6cd52ea4",
   "metadata": {},
   "source": [
    "### Hyperparameter Tuning"
   ]
  },
  {
   "cell_type": "markdown",
   "id": "3727df85",
   "metadata": {},
   "source": [
    "#### For Random Forest"
   ]
  },
  {
   "cell_type": "code",
   "execution_count": 9,
   "id": "25dcecac",
   "metadata": {},
   "outputs": [],
   "source": [
    "# For Random Forest\n",
    "rf_param_grid = {\n",
    "    'n_estimators': [50, 100, 150],\n",
    "    'max_depth': [None, 10, 20],\n",
    "    'min_samples_split': [2, 5, 10]\n",
    "}\n",
    "rf_grid_search = GridSearchCV(estimator=rf_model, param_grid=rf_param_grid, cv=5, n_jobs=-1)\n",
    "rf_grid_search.fit(X_train, y_train)\n",
    "best_rf_model = rf_grid_search.best_estimator_\n"
   ]
  },
  {
   "cell_type": "markdown",
   "id": "403eb73f",
   "metadata": {},
   "source": [
    "#### For Gradient Boosting"
   ]
  },
  {
   "cell_type": "code",
   "execution_count": 10,
   "id": "30103656",
   "metadata": {},
   "outputs": [],
   "source": [
    "# For Gradient Boosting\n",
    "gb_param_grid = {\n",
    "    'n_estimators': [50, 100, 150],\n",
    "    'learning_rate': [0.1, 0.05, 0.01],\n",
    "    'max_depth': [3, 5, 7]\n",
    "}\n",
    "gb_grid_search = GridSearchCV(estimator=gb_model, param_grid=gb_param_grid, cv=5, n_jobs=-1)\n",
    "gb_grid_search.fit(X_train, y_train)\n",
    "best_gb_model = gb_grid_search.best_estimator_"
   ]
  },
  {
   "cell_type": "markdown",
   "id": "17ad8aac",
   "metadata": {},
   "source": [
    "### Model Evaluation"
   ]
  },
  {
   "cell_type": "code",
   "execution_count": 11,
   "id": "c3f66f01",
   "metadata": {},
   "outputs": [],
   "source": [
    "def evaluate_model(model, X_test, y_test):\n",
    "    y_pred = model.predict(X_test)\n",
    "    mse = mean_squared_error(y_test, y_pred)\n",
    "    rmse = mse ** 0.5\n",
    "    r2 = r2_score(y_test, y_pred)\n",
    "    return mse, rmse, r2"
   ]
  },
  {
   "cell_type": "code",
   "execution_count": 12,
   "id": "ed2ff21c",
   "metadata": {},
   "outputs": [],
   "source": [
    "rf_mse, rf_rmse, rf_r2 = evaluate_model(best_rf_model, X_test, y_test)\n",
    "gb_mse, gb_rmse, gb_r2 = evaluate_model(best_gb_model, X_test, y_test)"
   ]
  },
  {
   "cell_type": "markdown",
   "id": "a6761f4a",
   "metadata": {},
   "source": [
    "### Interpretation and Communication"
   ]
  },
  {
   "cell_type": "code",
   "execution_count": 13,
   "id": "e8e9c246",
   "metadata": {},
   "outputs": [
    {
     "name": "stdout",
     "output_type": "stream",
     "text": [
      "Random Forest Regression Metrics:\n",
      "Mean Squared Error: 0.7287894455743971\n",
      "Root Mean Squared Error: 0.8536916572008871\n",
      "R-squared: 0.8234502479948769\n"
     ]
    }
   ],
   "source": [
    "print(\"Random Forest Regression Metrics:\")\n",
    "print(f\"Mean Squared Error: {rf_mse}\")\n",
    "print(f\"Root Mean Squared Error: {rf_rmse}\")\n",
    "print(f\"R-squared: {rf_r2}\")"
   ]
  },
  {
   "cell_type": "code",
   "execution_count": 14,
   "id": "56189612",
   "metadata": {},
   "outputs": [
    {
     "name": "stdout",
     "output_type": "stream",
     "text": [
      "\n",
      "Gradient Boosting Regression Metrics:\n",
      "Mean Squared Error: 0.5472305176719399\n",
      "Root Mean Squared Error: 0.7397503076524807\n",
      "R-squared: 0.867433025037197\n"
     ]
    }
   ],
   "source": [
    "print(\"\\nGradient Boosting Regression Metrics:\")\n",
    "print(f\"Mean Squared Error: {gb_mse}\")\n",
    "print(f\"Root Mean Squared Error: {gb_rmse}\")\n",
    "print(f\"R-squared: {gb_r2}\")"
   ]
  },
  {
   "cell_type": "markdown",
   "id": "5f190be9",
   "metadata": {},
   "source": [
    "### Prediction (Predict sales for new data)"
   ]
  },
  {
   "cell_type": "code",
   "execution_count": 15,
   "id": "a112ea8c",
   "metadata": {},
   "outputs": [],
   "source": [
    "# (Assuming 'new_game_data' is defined as in the previous code block)\n",
    "\n",
    "new_game_data = pd.DataFrame({\n",
    "    'Platform': ['Wii'],\n",
    "    'Genre': ['Sports'],\n",
    "    'Publisher': ['Nintendo'],\n",
    "    'NA_Sales': [10.0],\n",
    "    'EU_Sales': [5.0],\n",
    "    'JP_Sales': [2.0],\n",
    "    'Other_Sales': [1.0],\n",
    "    'Developer': ['Nintendo']\n",
    "})\n"
   ]
  },
  {
   "cell_type": "code",
   "execution_count": 16,
   "id": "44811079",
   "metadata": {},
   "outputs": [],
   "source": [
    "new_game_data_preprocessed = preprocessor.transform(new_game_data)"
   ]
  },
  {
   "cell_type": "code",
   "execution_count": 17,
   "id": "0e2a61f8",
   "metadata": {},
   "outputs": [],
   "source": [
    "rf_new_game_pred = best_rf_model.predict(new_game_data_preprocessed)\n",
    "gb_new_game_pred = best_gb_model.predict(new_game_data_preprocessed)"
   ]
  },
  {
   "cell_type": "code",
   "execution_count": 18,
   "id": "02816ede",
   "metadata": {},
   "outputs": [
    {
     "name": "stdout",
     "output_type": "stream",
     "text": [
      "Random Forest - Predicted Sales for the new game: 18.794333333333338\n",
      "Gradient Boosting - Predicted Sales for the new game: 18.8810180901633\n"
     ]
    }
   ],
   "source": [
    "print(f\"Random Forest - Predicted Sales for the new game: {rf_new_game_pred[0]}\")\n",
    "print(f\"Gradient Boosting - Predicted Sales for the new game: {gb_new_game_pred[0]}\")\n"
   ]
  },
  {
   "cell_type": "markdown",
   "id": "5a788e74",
   "metadata": {},
   "source": [
    "### Analyze and Compare Results"
   ]
  },
  {
   "cell_type": "code",
   "execution_count": 20,
   "id": "827cb610",
   "metadata": {},
   "outputs": [
    {
     "name": "stdout",
     "output_type": "stream",
     "text": [
      "\n",
      "--- Analysis ---\n",
      "Both Random Forest and Gradient Boosting models have been trained and evaluated for video game sales prediction.\n",
      "Here are the performance metrics of the models:\n",
      "------------------------------------------------\n",
      "Random Forest Regression Metrics:\n",
      "Mean Squared Error: 0.7287894455743971\n",
      "Root Mean Squared Error: 0.8536916572008871\n",
      "R-squared: 0.8234502479948769\n",
      "\n",
      "Gradient Boosting Regression Metrics:\n",
      "Mean Squared Error: 0.5472305176719399\n",
      "Root Mean Squared Error: 0.7397503076524807\n",
      "R-squared: 0.867433025037197\n",
      "\n",
      "--- Conclusion ---\n",
      "Based on the evaluation metrics, we can conclude the following:\n",
      "1. Both models show promising results in predicting video game sales, with relatively low mean squared error and root mean squared error values.\n",
      "2. The R-squared values indicate that a substantial proportion of the variance in the target variable (Global_Sales) is explained by the models.\n",
      "3. It's important to note that the performance of the models can vary based on the dataset and features used. Further experimentation and tuning may be needed to optimize the models further.\n",
      "4. Considering the computational resources required for training, the Random Forest model may be a better choice due to its shorter training time compared to Gradient Boosting.\n",
      "\n",
      "--- Prediction for New Game ---\n",
      "Using the best models, we predict the sales for a new game based on the following data:\n",
      "  Platform   Genre Publisher  NA_Sales  EU_Sales  JP_Sales  Other_Sales  \\\n",
      "0      Wii  Sports  Nintendo      10.0       5.0       2.0          1.0   \n",
      "\n",
      "  Developer  \n",
      "0  Nintendo  \n",
      "Random Forest Model Predicted Sales: 18.794333333333338\n",
      "Gradient Boosting Model Predicted Sales: 18.8810180901633\n",
      "\n",
      "--- Insights for Stakeholders ---\n",
      "The developed video game sales prediction models can provide valuable insights to game developers, publishers, and investors in the gaming industry:\n",
      "1. Sales predictions can assist in making informed decisions regarding marketing strategies, production budgets, and overall business planning.\n",
      "2. By leveraging historical data, stakeholders can assess the potential success of a game before its release, enabling them to optimize various aspects of game development and marketing.\n",
      "3. The models can be used to estimate sales in different regions based on the platform, genre, and other features of the game.\n",
      "4. With continuous data collection and model updates, stakeholders can adapt their strategies based on market trends and user preferences, leading to increased competitiveness in the gaming market.\n",
      "\n",
      "--- Next Steps ---\n",
      "1. Consider further data exploration and feature engineering to identify additional features that may influence video game sales.\n",
      "2. Evaluate the models on a larger and diverse dataset to ensure robustness and generalization.\n",
      "3. Continue hyperparameter tuning to optimize the model performance further.\n",
      "4. Monitor the performance of the models over time and update them as new data becomes available.\n"
     ]
    }
   ],
   "source": [
    "print(\"\\n--- Analysis ---\")\n",
    "print(\"Both Random Forest and Gradient Boosting models have been trained and evaluated for video game sales prediction.\")\n",
    "print(\"Here are the performance metrics of the models:\")\n",
    "print(\"------------------------------------------------\")\n",
    "print(\"Random Forest Regression Metrics:\")\n",
    "print(f\"Mean Squared Error: {rf_mse}\")\n",
    "print(f\"Root Mean Squared Error: {rf_rmse}\")\n",
    "print(f\"R-squared: {rf_r2}\")\n",
    "print(\"\\nGradient Boosting Regression Metrics:\")\n",
    "print(f\"Mean Squared Error: {gb_mse}\")\n",
    "print(f\"Root Mean Squared Error: {gb_rmse}\")\n",
    "print(f\"R-squared: {gb_r2}\")\n",
    "\n",
    "print(\"\\n--- Conclusion ---\")\n",
    "print(\"Based on the evaluation metrics, we can conclude the following:\")\n",
    "print(\"1. Both models show promising results in predicting video game sales, with relatively low mean squared error and root mean squared error values.\")\n",
    "print(\"2. The R-squared values indicate that a substantial proportion of the variance in the target variable (Global_Sales) is explained by the models.\")\n",
    "print(\"3. It's important to note that the performance of the models can vary based on the dataset and features used. Further experimentation and tuning may be needed to optimize the models further.\")\n",
    "print(\"4. Considering the computational resources required for training, the Random Forest model may be a better choice due to its shorter training time compared to Gradient Boosting.\")\n",
    "\n",
    "print(\"\\n--- Prediction for New Game ---\")\n",
    "print(\"Using the best models, we predict the sales for a new game based on the following data:\")\n",
    "print(new_game_data)\n",
    "print(\"Random Forest Model Predicted Sales:\", rf_new_game_pred[0])\n",
    "print(\"Gradient Boosting Model Predicted Sales:\", gb_new_game_pred[0])\n",
    "\n",
    "print(\"\\n--- Insights for Stakeholders ---\")\n",
    "print(\"The developed video game sales prediction models can provide valuable insights to game developers, publishers, and investors in the gaming industry:\")\n",
    "print(\"1. Sales predictions can assist in making informed decisions regarding marketing strategies, production budgets, and overall business planning.\")\n",
    "print(\"2. By leveraging historical data, stakeholders can assess the potential success of a game before its release, enabling them to optimize various aspects of game development and marketing.\")\n",
    "print(\"3. The models can be used to estimate sales in different regions based on the platform, genre, and other features of the game.\")\n",
    "print(\"4. With continuous data collection and model updates, stakeholders can adapt their strategies based on market trends and user preferences, leading to increased competitiveness in the gaming market.\")\n",
    "\n",
    "print(\"\\n--- Next Steps ---\")\n",
    "print(\"1. Consider further data exploration and feature engineering to identify additional features that may influence video game sales.\")\n",
    "print(\"2. Evaluate the models on a larger and diverse dataset to ensure robustness and generalization.\")\n",
    "print(\"3. Continue hyperparameter tuning to optimize the model performance further.\")\n",
    "print(\"4. Monitor the performance of the models over time and update them as new data becomes available.\")"
   ]
  },
  {
   "cell_type": "markdown",
   "id": "10a8e46f",
   "metadata": {},
   "source": [
    "## Visualization 1: Comparing Model Performance"
   ]
  },
  {
   "cell_type": "code",
   "execution_count": 21,
   "id": "66da1b04",
   "metadata": {},
   "outputs": [
    {
     "data": {
      "image/png": "[encoded data removed]",
      "text/plain": [
       "<Figure size 1000x600 with 1 Axes>"
      ]
     },
     "metadata": {},
     "output_type": "display_data"
    }
   ],
   "source": [
    "import matplotlib.pyplot as plt\n",
    "\n",
    "# Data for visualization\n",
    "models = ['Random Forest', 'Gradient Boosting']\n",
    "mse_scores = [rf_mse, gb_mse]\n",
    "rmse_scores = [rf_rmse, gb_rmse]\n",
    "r2_scores = [rf_r2, gb_r2]\n",
    "\n",
    "# Plotting performance metrics\n",
    "fig, ax = plt.subplots(figsize=(10, 6))\n",
    "ax.bar(models, mse_scores, label='Mean Squared Error')\n",
    "ax.bar(models, rmse_scores, label='Root Mean Squared Error', bottom=mse_scores)\n",
    "ax.plot(models, r2_scores, 'o-', label='R-squared')\n",
    "\n",
    "ax.set_xlabel('Models')\n",
    "ax.set_ylabel('Performance Scores')\n",
    "ax.set_title('Comparison of Model Performance')\n",
    "ax.legend()\n",
    "plt.tight_layout()\n",
    "plt.show()\n"
   ]
  },
  {
   "cell_type": "markdown",
   "id": "41d09879",
   "metadata": {},
   "source": [
    "## Visualization 2: Predicted Sales for the New Game"
   ]
  },
  {
   "cell_type": "code",
   "execution_count": 22,
   "id": "6ef1913b",
   "metadata": {},
   "outputs": [
    {
     "data": {
      "image/png": "[encoded data removed]",
      "text/plain": [
       "<Figure size 600x400 with 1 Axes>"
      ]
     },
     "metadata": {},
     "output_type": "display_data"
    }
   ],
   "source": [
    "# Data for visualization\n",
    "predicted_sales = [rf_new_game_pred[0], gb_new_game_pred[0]]\n",
    "\n",
    "# Plotting predicted sales for the new game\n",
    "fig, ax = plt.subplots(figsize=(6, 4))\n",
    "ax.bar(models, predicted_sales)\n",
    "\n",
    "ax.set_xlabel('Models')\n",
    "ax.set_ylabel('Predicted Global Sales')\n",
    "ax.set_title('Predicted Sales for the New Game')\n",
    "plt.tight_layout()\n",
    "plt.show()\n"
   ]
  },
  {
   "cell_type": "code",
   "execution_count": null,
   "id": "9c11f056",
   "metadata": {},
   "outputs": [],
   "source": []
  }
 ],
 "metadata": {
  "kernelspec": {
   "display_name": "Python 3 (ipykernel)",
   "language": "python",
   "name": "python3"
  },
  "language_info": {
   "codemirror_mode": {
    "name": "ipython",
    "version": 3
   },
   "file_extension": ".py",
   "mimetype": "text/x-python",
   "name": "python",
   "nbconvert_exporter": "python",
   "pygments_lexer": "ipython3",
   "version": "3.11.3"
  }
 },
 "nbformat": 4,
 "nbformat_minor": 5
}
